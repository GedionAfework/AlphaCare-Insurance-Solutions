{
 "cells": [
  {
   "cell_type": "markdown",
   "id": "3ef95174",
   "metadata": {},
   "source": [
    "##### Importing Necessary Packages"
   ]
  },
  {
   "cell_type": "code",
   "execution_count": 39,
   "id": "77528ad4",
   "metadata": {},
   "outputs": [],
   "source": [
    "import pandas as pd\n",
    "import seaborn as sns\n",
    "import matplotlib.pyplot as plt\n",
    "from scipy.stats import chi2_contingency\n",
    "from scipy.stats import kruskal\n",
    "from scipy.stats import mannwhitneyu"
   ]
  },
  {
   "cell_type": "markdown",
   "id": "8b70cbb3",
   "metadata": {},
   "source": [
    "##### Loading the Dataset"
   ]
  },
  {
   "cell_type": "code",
   "execution_count": 5,
   "id": "0d75607b",
   "metadata": {},
   "outputs": [
    {
     "name": "stderr",
     "output_type": "stream",
     "text": [
      "C:\\Users\\Gedion Afework\\AppData\\Local\\Temp\\ipykernel_25196\\1502387084.py:1: DtypeWarning: Columns (32,37) have mixed types. Specify dtype option on import or set low_memory=False.\n",
      "  data = pd.read_csv('../data/MachineLearningRating_v3.txt', delimiter='|')\n"
     ]
    }
   ],
   "source": [
    "data = pd.read_csv('../data/MachineLearningRating_v3.txt', delimiter='|')"
   ]
  },
  {
   "cell_type": "code",
   "execution_count": 6,
   "id": "a912908e",
   "metadata": {},
   "outputs": [],
   "source": [
    "data['HasClaim'] = data['TotalClaims'] > 0"
   ]
  },
  {
   "cell_type": "code",
   "execution_count": 8,
   "id": "d4bc4cd2",
   "metadata": {},
   "outputs": [
    {
     "data": {
      "text/plain": [
       "0    False\n",
       "1    False\n",
       "2    False\n",
       "3    False\n",
       "4    False\n",
       "Name: HasClaim, dtype: bool"
      ]
     },
     "execution_count": 8,
     "metadata": {},
     "output_type": "execute_result"
    }
   ],
   "source": [
    "data['HasClaim'].head()"
   ]
  },
  {
   "cell_type": "code",
   "execution_count": 11,
   "id": "feca3dd4",
   "metadata": {},
   "outputs": [],
   "source": [
    "data['Margin'] = data['TotalPremium'] - data['TotalClaims']"
   ]
  },
  {
   "cell_type": "code",
   "execution_count": 13,
   "id": "e4c83ce9",
   "metadata": {},
   "outputs": [
    {
     "data": {
      "text/plain": [
       "0     21.929825\n",
       "1     21.929825\n",
       "2      0.000000\n",
       "3    512.848070\n",
       "4      0.000000\n",
       "Name: Margin, dtype: float64"
      ]
     },
     "execution_count": 13,
     "metadata": {},
     "output_type": "execute_result"
    }
   ],
   "source": [
    "data['Margin'].head()"
   ]
  },
  {
   "cell_type": "code",
   "execution_count": 14,
   "id": "5934c5a9",
   "metadata": {},
   "outputs": [],
   "source": [
    "claim_data = data[data['HasClaim'] == True]"
   ]
  },
  {
   "cell_type": "code",
   "execution_count": 16,
   "id": "107895bf",
   "metadata": {},
   "outputs": [
    {
     "data": {
      "text/html": [
       "<div>\n",
       "<style scoped>\n",
       "    .dataframe tbody tr th:only-of-type {\n",
       "        vertical-align: middle;\n",
       "    }\n",
       "\n",
       "    .dataframe tbody tr th {\n",
       "        vertical-align: top;\n",
       "    }\n",
       "\n",
       "    .dataframe thead th {\n",
       "        text-align: right;\n",
       "    }\n",
       "</style>\n",
       "<table border=\"1\" class=\"dataframe\">\n",
       "  <thead>\n",
       "    <tr style=\"text-align: right;\">\n",
       "      <th></th>\n",
       "      <th>UnderwrittenCoverID</th>\n",
       "      <th>PolicyID</th>\n",
       "      <th>TransactionMonth</th>\n",
       "      <th>IsVATRegistered</th>\n",
       "      <th>Citizenship</th>\n",
       "      <th>LegalType</th>\n",
       "      <th>Title</th>\n",
       "      <th>Language</th>\n",
       "      <th>Bank</th>\n",
       "      <th>AccountType</th>\n",
       "      <th>...</th>\n",
       "      <th>CoverType</th>\n",
       "      <th>CoverGroup</th>\n",
       "      <th>Section</th>\n",
       "      <th>Product</th>\n",
       "      <th>StatutoryClass</th>\n",
       "      <th>StatutoryRiskType</th>\n",
       "      <th>TotalPremium</th>\n",
       "      <th>TotalClaims</th>\n",
       "      <th>HasClaim</th>\n",
       "      <th>Margin</th>\n",
       "    </tr>\n",
       "  </thead>\n",
       "  <tbody>\n",
       "    <tr>\n",
       "      <th>203</th>\n",
       "      <td>46222</td>\n",
       "      <td>4044</td>\n",
       "      <td>2014-10-01 00:00:00</td>\n",
       "      <td>False</td>\n",
       "      <td></td>\n",
       "      <td>Close Corporation</td>\n",
       "      <td>Mr</td>\n",
       "      <td>English</td>\n",
       "      <td>First National Bank</td>\n",
       "      <td>Current account</td>\n",
       "      <td>...</td>\n",
       "      <td>Own Damage</td>\n",
       "      <td>Comprehensive - Taxi</td>\n",
       "      <td>Motor Comprehensive</td>\n",
       "      <td>Mobility Metered Taxis: Monthly</td>\n",
       "      <td>Commercial</td>\n",
       "      <td>IFRS Constant</td>\n",
       "      <td>0.000000</td>\n",
       "      <td>2294.096491</td>\n",
       "      <td>True</td>\n",
       "      <td>-2294.096491</td>\n",
       "    </tr>\n",
       "    <tr>\n",
       "      <th>284</th>\n",
       "      <td>82062</td>\n",
       "      <td>7174</td>\n",
       "      <td>2015-03-01 00:00:00</td>\n",
       "      <td>True</td>\n",
       "      <td></td>\n",
       "      <td>Close Corporation</td>\n",
       "      <td>Mr</td>\n",
       "      <td>English</td>\n",
       "      <td>First National Bank</td>\n",
       "      <td>Current account</td>\n",
       "      <td>...</td>\n",
       "      <td>Windscreen</td>\n",
       "      <td>Comprehensive - Taxi</td>\n",
       "      <td>Motor Comprehensive</td>\n",
       "      <td>Mobility Metered Taxis: Monthly</td>\n",
       "      <td>Commercial</td>\n",
       "      <td>IFRS Constant</td>\n",
       "      <td>21.929825</td>\n",
       "      <td>2040.473684</td>\n",
       "      <td>True</td>\n",
       "      <td>-2018.543860</td>\n",
       "    </tr>\n",
       "    <tr>\n",
       "      <th>1560</th>\n",
       "      <td>119591</td>\n",
       "      <td>8672</td>\n",
       "      <td>2015-04-01 00:00:00</td>\n",
       "      <td>False</td>\n",
       "      <td></td>\n",
       "      <td>Close Corporation</td>\n",
       "      <td>Mr</td>\n",
       "      <td>English</td>\n",
       "      <td>First National Bank</td>\n",
       "      <td>Current account</td>\n",
       "      <td>...</td>\n",
       "      <td>Own Damage</td>\n",
       "      <td>Comprehensive - Taxi</td>\n",
       "      <td>Motor Comprehensive</td>\n",
       "      <td>Mobility Metered Taxis: Monthly</td>\n",
       "      <td>Commercial</td>\n",
       "      <td>IFRS Constant</td>\n",
       "      <td>1213.889211</td>\n",
       "      <td>46492.211754</td>\n",
       "      <td>True</td>\n",
       "      <td>-45278.322544</td>\n",
       "    </tr>\n",
       "    <tr>\n",
       "      <th>1779</th>\n",
       "      <td>50193</td>\n",
       "      <td>283</td>\n",
       "      <td>2014-10-01 00:00:00</td>\n",
       "      <td>False</td>\n",
       "      <td></td>\n",
       "      <td>Close Corporation</td>\n",
       "      <td>Mr</td>\n",
       "      <td>English</td>\n",
       "      <td>Standard Bank</td>\n",
       "      <td>Current account</td>\n",
       "      <td>...</td>\n",
       "      <td>Own Damage</td>\n",
       "      <td>Comprehensive - Taxi</td>\n",
       "      <td>Motor Comprehensive</td>\n",
       "      <td>Mobility Commercial Cover: Monthly</td>\n",
       "      <td>Commercial</td>\n",
       "      <td>IFRS Constant</td>\n",
       "      <td>645.017456</td>\n",
       "      <td>26516.859649</td>\n",
       "      <td>True</td>\n",
       "      <td>-25871.842193</td>\n",
       "    </tr>\n",
       "    <tr>\n",
       "      <th>1943</th>\n",
       "      <td>119582</td>\n",
       "      <td>8672</td>\n",
       "      <td>2015-04-01 00:00:00</td>\n",
       "      <td>False</td>\n",
       "      <td></td>\n",
       "      <td>Close Corporation</td>\n",
       "      <td>Mr</td>\n",
       "      <td>English</td>\n",
       "      <td>First National Bank</td>\n",
       "      <td>Current account</td>\n",
       "      <td>...</td>\n",
       "      <td>Income Protector</td>\n",
       "      <td>Income Protector</td>\n",
       "      <td>Optional Extended Covers</td>\n",
       "      <td>Mobility Metered Taxis: Monthly</td>\n",
       "      <td>Commercial</td>\n",
       "      <td>IFRS Constant</td>\n",
       "      <td>74.561404</td>\n",
       "      <td>6140.350877</td>\n",
       "      <td>True</td>\n",
       "      <td>-6065.789474</td>\n",
       "    </tr>\n",
       "  </tbody>\n",
       "</table>\n",
       "<p>5 rows × 54 columns</p>\n",
       "</div>"
      ],
      "text/plain": [
       "      UnderwrittenCoverID  PolicyID     TransactionMonth  IsVATRegistered  \\\n",
       "203                 46222      4044  2014-10-01 00:00:00            False   \n",
       "284                 82062      7174  2015-03-01 00:00:00             True   \n",
       "1560               119591      8672  2015-04-01 00:00:00            False   \n",
       "1779                50193       283  2014-10-01 00:00:00            False   \n",
       "1943               119582      8672  2015-04-01 00:00:00            False   \n",
       "\n",
       "     Citizenship          LegalType Title Language                 Bank  \\\n",
       "203               Close Corporation    Mr  English  First National Bank   \n",
       "284               Close Corporation    Mr  English  First National Bank   \n",
       "1560              Close Corporation    Mr  English  First National Bank   \n",
       "1779              Close Corporation    Mr  English        Standard Bank   \n",
       "1943              Close Corporation    Mr  English  First National Bank   \n",
       "\n",
       "          AccountType  ...         CoverType            CoverGroup  \\\n",
       "203   Current account  ...        Own Damage  Comprehensive - Taxi   \n",
       "284   Current account  ...        Windscreen  Comprehensive - Taxi   \n",
       "1560  Current account  ...        Own Damage  Comprehensive - Taxi   \n",
       "1779  Current account  ...        Own Damage  Comprehensive - Taxi   \n",
       "1943  Current account  ...  Income Protector      Income Protector   \n",
       "\n",
       "                       Section                             Product  \\\n",
       "203        Motor Comprehensive     Mobility Metered Taxis: Monthly   \n",
       "284        Motor Comprehensive     Mobility Metered Taxis: Monthly   \n",
       "1560       Motor Comprehensive     Mobility Metered Taxis: Monthly   \n",
       "1779       Motor Comprehensive  Mobility Commercial Cover: Monthly   \n",
       "1943  Optional Extended Covers     Mobility Metered Taxis: Monthly   \n",
       "\n",
       "      StatutoryClass StatutoryRiskType TotalPremium   TotalClaims  HasClaim  \\\n",
       "203       Commercial     IFRS Constant     0.000000   2294.096491      True   \n",
       "284       Commercial     IFRS Constant    21.929825   2040.473684      True   \n",
       "1560      Commercial     IFRS Constant  1213.889211  46492.211754      True   \n",
       "1779      Commercial     IFRS Constant   645.017456  26516.859649      True   \n",
       "1943      Commercial     IFRS Constant    74.561404   6140.350877      True   \n",
       "\n",
       "            Margin  \n",
       "203   -2294.096491  \n",
       "284   -2018.543860  \n",
       "1560 -45278.322544  \n",
       "1779 -25871.842193  \n",
       "1943  -6065.789474  \n",
       "\n",
       "[5 rows x 54 columns]"
      ]
     },
     "execution_count": 16,
     "metadata": {},
     "output_type": "execute_result"
    }
   ],
   "source": [
    "claim_data.head()"
   ]
  },
  {
   "cell_type": "code",
   "execution_count": 19,
   "id": "ee9e332b",
   "metadata": {},
   "outputs": [],
   "source": [
    "data.to_csv('../data/processed_data.csv', index=False)"
   ]
  },
  {
   "cell_type": "markdown",
   "id": "415ea472",
   "metadata": {},
   "source": [
    "##### Claim Frequency (Chi-squared test)"
   ]
  },
  {
   "cell_type": "code",
   "execution_count": 21,
   "id": "7b8a54fc",
   "metadata": {},
   "outputs": [
    {
     "name": "stdout",
     "output_type": "stream",
     "text": [
      "Claim Frequency across Provinces: p-value = 0.0000\n"
     ]
    }
   ],
   "source": [
    "contingency_table = pd.crosstab(data['Province'], data['HasClaim'])\n",
    "chi2, p, dof, expected = chi2_contingency(contingency_table)\n",
    "print(f\"Claim Frequency across Provinces: p-value = {p:.4f}\")"
   ]
  },
  {
   "cell_type": "markdown",
   "id": "7922870b",
   "metadata": {},
   "source": [
    "##### Claim Severity (Kruskal-Wallis test)"
   ]
  },
  {
   "cell_type": "code",
   "execution_count": 23,
   "id": "c69ed66a",
   "metadata": {},
   "outputs": [
    {
     "name": "stdout",
     "output_type": "stream",
     "text": [
      "Claim Severity across Provinces: p-value = 0.0000\n"
     ]
    }
   ],
   "source": [
    "provinces = claim_data['Province'].unique()\n",
    "severity_groups = [claim_data[claim_data['Province'] == p]['TotalClaims'] for p in provinces]\n",
    "stat, p = kruskal(*severity_groups)\n",
    "print(f\"Claim Severity across Provinces: p-value = {p:.4f}\")"
   ]
  },
  {
   "cell_type": "code",
   "execution_count": 25,
   "id": "1fbc0e97",
   "metadata": {},
   "outputs": [
    {
     "data": {
      "image/png": "[encoded data removed]",
      "text/plain": [
       "<Figure size 640x480 with 1 Axes>"
      ]
     },
     "metadata": {},
     "output_type": "display_data"
    }
   ],
   "source": [
    "sns.barplot(x='Province', y='HasClaim', data=data, estimator=lambda x: sum(x)/len(x))\n",
    "plt.title('Claim Frequency by Province')\n",
    "plt.ylabel('Claim Frequency')\n",
    "plt.xticks(rotation=45)\n",
    "plt.savefig('../plots/claim_frequency_province.png')\n",
    "plt.show()"
   ]
  },
  {
   "cell_type": "markdown",
   "id": "3613749e",
   "metadata": {},
   "source": [
    "##### Hypothesis 2: No Risk Differences Between Zip Codes"
   ]
  },
  {
   "cell_type": "code",
   "execution_count": 27,
   "id": "68c56813",
   "metadata": {},
   "outputs": [],
   "source": [
    "top_zips = data['PostalCode'].value_counts().head(10).index\n",
    "data_zip_subset = data[data['PostalCode'].isin(top_zips)]"
   ]
  },
  {
   "cell_type": "code",
   "execution_count": 29,
   "id": "f0b85c97",
   "metadata": {},
   "outputs": [
    {
     "data": {
      "text/html": [
       "<div>\n",
       "<style scoped>\n",
       "    .dataframe tbody tr th:only-of-type {\n",
       "        vertical-align: middle;\n",
       "    }\n",
       "\n",
       "    .dataframe tbody tr th {\n",
       "        vertical-align: top;\n",
       "    }\n",
       "\n",
       "    .dataframe thead th {\n",
       "        text-align: right;\n",
       "    }\n",
       "</style>\n",
       "<table border=\"1\" class=\"dataframe\">\n",
       "  <thead>\n",
       "    <tr style=\"text-align: right;\">\n",
       "      <th></th>\n",
       "      <th>UnderwrittenCoverID</th>\n",
       "      <th>PolicyID</th>\n",
       "      <th>TransactionMonth</th>\n",
       "      <th>IsVATRegistered</th>\n",
       "      <th>Citizenship</th>\n",
       "      <th>LegalType</th>\n",
       "      <th>Title</th>\n",
       "      <th>Language</th>\n",
       "      <th>Bank</th>\n",
       "      <th>AccountType</th>\n",
       "      <th>...</th>\n",
       "      <th>CoverType</th>\n",
       "      <th>CoverGroup</th>\n",
       "      <th>Section</th>\n",
       "      <th>Product</th>\n",
       "      <th>StatutoryClass</th>\n",
       "      <th>StatutoryRiskType</th>\n",
       "      <th>TotalPremium</th>\n",
       "      <th>TotalClaims</th>\n",
       "      <th>HasClaim</th>\n",
       "      <th>Margin</th>\n",
       "    </tr>\n",
       "  </thead>\n",
       "  <tbody>\n",
       "    <tr>\n",
       "      <th>478</th>\n",
       "      <td>55943</td>\n",
       "      <td>5224</td>\n",
       "      <td>2014-09-01 00:00:00</td>\n",
       "      <td>False</td>\n",
       "      <td></td>\n",
       "      <td>Individual</td>\n",
       "      <td>Dr</td>\n",
       "      <td>English</td>\n",
       "      <td>First National Bank</td>\n",
       "      <td>Current account</td>\n",
       "      <td>...</td>\n",
       "      <td>Signage and Vehicle Wraps</td>\n",
       "      <td>Comprehensive - Taxi</td>\n",
       "      <td>Motor Comprehensive</td>\n",
       "      <td>Mobility Metered Taxis: Monthly</td>\n",
       "      <td>Commercial</td>\n",
       "      <td>IFRS Constant</td>\n",
       "      <td>0.932544</td>\n",
       "      <td>0.0</td>\n",
       "      <td>False</td>\n",
       "      <td>0.932544</td>\n",
       "    </tr>\n",
       "    <tr>\n",
       "      <th>479</th>\n",
       "      <td>55943</td>\n",
       "      <td>5224</td>\n",
       "      <td>2014-11-01 00:00:00</td>\n",
       "      <td>False</td>\n",
       "      <td></td>\n",
       "      <td>Individual</td>\n",
       "      <td>Dr</td>\n",
       "      <td>English</td>\n",
       "      <td>First National Bank</td>\n",
       "      <td>Current account</td>\n",
       "      <td>...</td>\n",
       "      <td>Signage and Vehicle Wraps</td>\n",
       "      <td>Comprehensive - Taxi</td>\n",
       "      <td>Motor Comprehensive</td>\n",
       "      <td>Mobility Metered Taxis: Monthly</td>\n",
       "      <td>Commercial</td>\n",
       "      <td>IFRS Constant</td>\n",
       "      <td>0.932544</td>\n",
       "      <td>0.0</td>\n",
       "      <td>False</td>\n",
       "      <td>0.932544</td>\n",
       "    </tr>\n",
       "    <tr>\n",
       "      <th>480</th>\n",
       "      <td>55943</td>\n",
       "      <td>5224</td>\n",
       "      <td>2015-01-01 00:00:00</td>\n",
       "      <td>False</td>\n",
       "      <td></td>\n",
       "      <td>Individual</td>\n",
       "      <td>Dr</td>\n",
       "      <td>English</td>\n",
       "      <td>First National Bank</td>\n",
       "      <td>Current account</td>\n",
       "      <td>...</td>\n",
       "      <td>Signage and Vehicle Wraps</td>\n",
       "      <td>Comprehensive - Taxi</td>\n",
       "      <td>Motor Comprehensive</td>\n",
       "      <td>Mobility Metered Taxis: Monthly</td>\n",
       "      <td>Commercial</td>\n",
       "      <td>IFRS Constant</td>\n",
       "      <td>0.932544</td>\n",
       "      <td>0.0</td>\n",
       "      <td>False</td>\n",
       "      <td>0.932544</td>\n",
       "    </tr>\n",
       "    <tr>\n",
       "      <th>481</th>\n",
       "      <td>55943</td>\n",
       "      <td>5224</td>\n",
       "      <td>2015-04-01 00:00:00</td>\n",
       "      <td>False</td>\n",
       "      <td></td>\n",
       "      <td>Individual</td>\n",
       "      <td>Dr</td>\n",
       "      <td>English</td>\n",
       "      <td>First National Bank</td>\n",
       "      <td>Current account</td>\n",
       "      <td>...</td>\n",
       "      <td>Signage and Vehicle Wraps</td>\n",
       "      <td>Comprehensive - Taxi</td>\n",
       "      <td>Motor Comprehensive</td>\n",
       "      <td>Mobility Metered Taxis: Monthly</td>\n",
       "      <td>Commercial</td>\n",
       "      <td>IFRS Constant</td>\n",
       "      <td>0.932544</td>\n",
       "      <td>0.0</td>\n",
       "      <td>False</td>\n",
       "      <td>0.932544</td>\n",
       "    </tr>\n",
       "    <tr>\n",
       "      <th>482</th>\n",
       "      <td>55943</td>\n",
       "      <td>5224</td>\n",
       "      <td>2015-06-01 00:00:00</td>\n",
       "      <td>False</td>\n",
       "      <td></td>\n",
       "      <td>Individual</td>\n",
       "      <td>Dr</td>\n",
       "      <td>English</td>\n",
       "      <td>First National Bank</td>\n",
       "      <td>Current account</td>\n",
       "      <td>...</td>\n",
       "      <td>Signage and Vehicle Wraps</td>\n",
       "      <td>Comprehensive - Taxi</td>\n",
       "      <td>Motor Comprehensive</td>\n",
       "      <td>Mobility Metered Taxis: Monthly</td>\n",
       "      <td>Commercial</td>\n",
       "      <td>IFRS Constant</td>\n",
       "      <td>0.000000</td>\n",
       "      <td>0.0</td>\n",
       "      <td>False</td>\n",
       "      <td>0.000000</td>\n",
       "    </tr>\n",
       "  </tbody>\n",
       "</table>\n",
       "<p>5 rows × 54 columns</p>\n",
       "</div>"
      ],
      "text/plain": [
       "     UnderwrittenCoverID  PolicyID     TransactionMonth  IsVATRegistered  \\\n",
       "478                55943      5224  2014-09-01 00:00:00            False   \n",
       "479                55943      5224  2014-11-01 00:00:00            False   \n",
       "480                55943      5224  2015-01-01 00:00:00            False   \n",
       "481                55943      5224  2015-04-01 00:00:00            False   \n",
       "482                55943      5224  2015-06-01 00:00:00            False   \n",
       "\n",
       "    Citizenship   LegalType Title Language                 Bank  \\\n",
       "478              Individual    Dr  English  First National Bank   \n",
       "479              Individual    Dr  English  First National Bank   \n",
       "480              Individual    Dr  English  First National Bank   \n",
       "481              Individual    Dr  English  First National Bank   \n",
       "482              Individual    Dr  English  First National Bank   \n",
       "\n",
       "         AccountType  ...                  CoverType            CoverGroup  \\\n",
       "478  Current account  ...  Signage and Vehicle Wraps  Comprehensive - Taxi   \n",
       "479  Current account  ...  Signage and Vehicle Wraps  Comprehensive - Taxi   \n",
       "480  Current account  ...  Signage and Vehicle Wraps  Comprehensive - Taxi   \n",
       "481  Current account  ...  Signage and Vehicle Wraps  Comprehensive - Taxi   \n",
       "482  Current account  ...  Signage and Vehicle Wraps  Comprehensive - Taxi   \n",
       "\n",
       "                 Section                          Product  StatutoryClass  \\\n",
       "478  Motor Comprehensive  Mobility Metered Taxis: Monthly      Commercial   \n",
       "479  Motor Comprehensive  Mobility Metered Taxis: Monthly      Commercial   \n",
       "480  Motor Comprehensive  Mobility Metered Taxis: Monthly      Commercial   \n",
       "481  Motor Comprehensive  Mobility Metered Taxis: Monthly      Commercial   \n",
       "482  Motor Comprehensive  Mobility Metered Taxis: Monthly      Commercial   \n",
       "\n",
       "    StatutoryRiskType TotalPremium TotalClaims  HasClaim    Margin  \n",
       "478     IFRS Constant     0.932544         0.0     False  0.932544  \n",
       "479     IFRS Constant     0.932544         0.0     False  0.932544  \n",
       "480     IFRS Constant     0.932544         0.0     False  0.932544  \n",
       "481     IFRS Constant     0.932544         0.0     False  0.932544  \n",
       "482     IFRS Constant     0.000000         0.0     False  0.000000  \n",
       "\n",
       "[5 rows x 54 columns]"
      ]
     },
     "execution_count": 29,
     "metadata": {},
     "output_type": "execute_result"
    }
   ],
   "source": [
    "data_zip_subset.head()"
   ]
  },
  {
   "cell_type": "markdown",
   "id": "d08b0b3b",
   "metadata": {},
   "source": [
    "##### Claim Frequency (Chi-squared test)"
   ]
  },
  {
   "cell_type": "code",
   "execution_count": 30,
   "id": "7829661c",
   "metadata": {},
   "outputs": [
    {
     "name": "stdout",
     "output_type": "stream",
     "text": [
      "Claim Frequency across Zip Codes: p-value = 0.0000\n"
     ]
    }
   ],
   "source": [
    "contingency_table = pd.crosstab(data_zip_subset['PostalCode'], data_zip_subset['HasClaim'])\n",
    "chi2, p, dof, expected = chi2_contingency(contingency_table)\n",
    "print(f\"Claim Frequency across Zip Codes: p-value = {p:.4f}\")"
   ]
  },
  {
   "cell_type": "markdown",
   "id": "917e129d",
   "metadata": {},
   "source": [
    "##### Claim Severity (Kruskal-Wallis test)"
   ]
  },
  {
   "cell_type": "code",
   "execution_count": 31,
   "id": "7d5f1bb5",
   "metadata": {},
   "outputs": [
    {
     "name": "stdout",
     "output_type": "stream",
     "text": [
      "Claim Severity across Zip Codes: p-value = 0.0000\n"
     ]
    }
   ],
   "source": [
    "zip_groups = [claim_data[claim_data['PostalCode'] == z]['TotalClaims'] for z in top_zips]\n",
    "stat, p = kruskal(*zip_groups)\n",
    "print(f\"Claim Severity across Zip Codes: p-value = {p:.4f}\")"
   ]
  },
  {
   "cell_type": "markdown",
   "id": "1b8b31ff",
   "metadata": {},
   "source": [
    "##### Hypothesis 3: No Significant Margin Difference Between Zip Codes"
   ]
  },
  {
   "cell_type": "markdown",
   "id": "4b220afe",
   "metadata": {},
   "source": [
    "##### Margin (Kruskal-Wallis test)"
   ]
  },
  {
   "cell_type": "code",
   "execution_count": 32,
   "id": "1073049e",
   "metadata": {},
   "outputs": [
    {
     "name": "stdout",
     "output_type": "stream",
     "text": [
      "Margin across Zip Codes: p-value = 0.0000\n"
     ]
    }
   ],
   "source": [
    "margin_groups = [data[data['PostalCode'] == z]['Margin'] for z in top_zips]\n",
    "stat, p = kruskal(*margin_groups)\n",
    "print(f\"Margin across Zip Codes: p-value = {p:.4f}\")"
   ]
  },
  {
   "cell_type": "markdown",
   "id": "1c5ccce2",
   "metadata": {},
   "source": [
    "##### Visualization"
   ]
  },
  {
   "cell_type": "code",
   "execution_count": 33,
   "id": "d198118f",
   "metadata": {},
   "outputs": [
    {
     "data": {
      "image/png": "[encoded data removed]",
      "text/plain": [
       "<Figure size 640x480 with 1 Axes>"
      ]
     },
     "metadata": {},
     "output_type": "display_data"
    }
   ],
   "source": [
    "sns.boxplot(x='PostalCode', y='Margin', data=data_zip_subset)\n",
    "plt.title('Margin Distribution by Zip Code')\n",
    "plt.xticks(rotation=45)\n",
    "plt.savefig('../plots/margin_zipcode.png')\n",
    "plt.show()"
   ]
  },
  {
   "cell_type": "markdown",
   "id": "ac77ec9b",
   "metadata": {},
   "source": [
    "##### Hypothesis 4: No Significant Risk Difference Between Women and Men"
   ]
  },
  {
   "cell_type": "code",
   "execution_count": 34,
   "id": "62d92759",
   "metadata": {},
   "outputs": [],
   "source": [
    "data_gender = data[data['Gender'].isin(['Male', 'Female'])]\n",
    "claim_data_gender = claim_data[claim_data['Gender'].isin(['Male', 'Female'])]"
   ]
  },
  {
   "cell_type": "code",
   "execution_count": 36,
   "id": "fa8cf3f6",
   "metadata": {},
   "outputs": [
    {
     "data": {
      "text/html": [
       "<div>\n",
       "<style scoped>\n",
       "    .dataframe tbody tr th:only-of-type {\n",
       "        vertical-align: middle;\n",
       "    }\n",
       "\n",
       "    .dataframe tbody tr th {\n",
       "        vertical-align: top;\n",
       "    }\n",
       "\n",
       "    .dataframe thead th {\n",
       "        text-align: right;\n",
       "    }\n",
       "</style>\n",
       "<table border=\"1\" class=\"dataframe\">\n",
       "  <thead>\n",
       "    <tr style=\"text-align: right;\">\n",
       "      <th></th>\n",
       "      <th>UnderwrittenCoverID</th>\n",
       "      <th>PolicyID</th>\n",
       "      <th>TransactionMonth</th>\n",
       "      <th>IsVATRegistered</th>\n",
       "      <th>Citizenship</th>\n",
       "      <th>LegalType</th>\n",
       "      <th>Title</th>\n",
       "      <th>Language</th>\n",
       "      <th>Bank</th>\n",
       "      <th>AccountType</th>\n",
       "      <th>...</th>\n",
       "      <th>CoverType</th>\n",
       "      <th>CoverGroup</th>\n",
       "      <th>Section</th>\n",
       "      <th>Product</th>\n",
       "      <th>StatutoryClass</th>\n",
       "      <th>StatutoryRiskType</th>\n",
       "      <th>TotalPremium</th>\n",
       "      <th>TotalClaims</th>\n",
       "      <th>HasClaim</th>\n",
       "      <th>Margin</th>\n",
       "    </tr>\n",
       "  </thead>\n",
       "  <tbody>\n",
       "    <tr>\n",
       "      <th>28632</th>\n",
       "      <td>47539</td>\n",
       "      <td>3878</td>\n",
       "      <td>2015-02-01 00:00:00</td>\n",
       "      <td>False</td>\n",
       "      <td></td>\n",
       "      <td>Individual</td>\n",
       "      <td>Mr</td>\n",
       "      <td>English</td>\n",
       "      <td>ABSA Bank</td>\n",
       "      <td>Current account</td>\n",
       "      <td>...</td>\n",
       "      <td>Income Protector</td>\n",
       "      <td>Income Protector</td>\n",
       "      <td>Optional Extended Covers</td>\n",
       "      <td>Mobility Commercial Cover: Monthly</td>\n",
       "      <td>Commercial</td>\n",
       "      <td>IFRS Constant</td>\n",
       "      <td>74.561404</td>\n",
       "      <td>3508.771930</td>\n",
       "      <td>True</td>\n",
       "      <td>-3434.210526</td>\n",
       "    </tr>\n",
       "    <tr>\n",
       "      <th>28641</th>\n",
       "      <td>1514</td>\n",
       "      <td>174</td>\n",
       "      <td>2014-03-01 00:00:00</td>\n",
       "      <td>False</td>\n",
       "      <td></td>\n",
       "      <td>Individual</td>\n",
       "      <td>Mr</td>\n",
       "      <td>English</td>\n",
       "      <td>ABSA Bank</td>\n",
       "      <td>Current account</td>\n",
       "      <td>...</td>\n",
       "      <td>Windscreen</td>\n",
       "      <td>Comprehensive - Taxi</td>\n",
       "      <td>Motor Comprehensive</td>\n",
       "      <td>Mobility Commercial Cover: Monthly</td>\n",
       "      <td>Commercial</td>\n",
       "      <td>IFRS Constant</td>\n",
       "      <td>15.789474</td>\n",
       "      <td>2968.705263</td>\n",
       "      <td>True</td>\n",
       "      <td>-2952.915789</td>\n",
       "    </tr>\n",
       "    <tr>\n",
       "      <th>28867</th>\n",
       "      <td>126029</td>\n",
       "      <td>6641</td>\n",
       "      <td>2015-02-01 00:00:00</td>\n",
       "      <td>False</td>\n",
       "      <td></td>\n",
       "      <td>Individual</td>\n",
       "      <td>Mr</td>\n",
       "      <td>English</td>\n",
       "      <td>ABSA Bank</td>\n",
       "      <td>Current account</td>\n",
       "      <td>...</td>\n",
       "      <td>Income Protector</td>\n",
       "      <td>Income Protector</td>\n",
       "      <td>Optional Extended Covers</td>\n",
       "      <td>Mobility Commercial Cover: Monthly</td>\n",
       "      <td>Commercial</td>\n",
       "      <td>IFRS Constant</td>\n",
       "      <td>74.561404</td>\n",
       "      <td>6140.350877</td>\n",
       "      <td>True</td>\n",
       "      <td>-6065.789474</td>\n",
       "    </tr>\n",
       "    <tr>\n",
       "      <th>28878</th>\n",
       "      <td>92064</td>\n",
       "      <td>6641</td>\n",
       "      <td>2015-01-01 00:00:00</td>\n",
       "      <td>False</td>\n",
       "      <td></td>\n",
       "      <td>Individual</td>\n",
       "      <td>Mr</td>\n",
       "      <td>English</td>\n",
       "      <td>ABSA Bank</td>\n",
       "      <td>Current account</td>\n",
       "      <td>...</td>\n",
       "      <td>Own Damage</td>\n",
       "      <td>Comprehensive - Taxi</td>\n",
       "      <td>Motor Comprehensive</td>\n",
       "      <td>Mobility Commercial Cover: Monthly</td>\n",
       "      <td>Commercial</td>\n",
       "      <td>IFRS Constant</td>\n",
       "      <td>395.529123</td>\n",
       "      <td>36298.298246</td>\n",
       "      <td>True</td>\n",
       "      <td>-35902.769123</td>\n",
       "    </tr>\n",
       "    <tr>\n",
       "      <th>30907</th>\n",
       "      <td>92064</td>\n",
       "      <td>6641</td>\n",
       "      <td>2015-05-01 00:00:00</td>\n",
       "      <td>False</td>\n",
       "      <td></td>\n",
       "      <td>Individual</td>\n",
       "      <td>Mr</td>\n",
       "      <td>English</td>\n",
       "      <td>ABSA Bank</td>\n",
       "      <td>Current account</td>\n",
       "      <td>...</td>\n",
       "      <td>Own Damage</td>\n",
       "      <td>Comprehensive - Taxi</td>\n",
       "      <td>Motor Comprehensive</td>\n",
       "      <td>Mobility Commercial Cover: Monthly</td>\n",
       "      <td>Commercial</td>\n",
       "      <td>IFRS Constant</td>\n",
       "      <td>395.529123</td>\n",
       "      <td>11927.254386</td>\n",
       "      <td>True</td>\n",
       "      <td>-11531.725263</td>\n",
       "    </tr>\n",
       "  </tbody>\n",
       "</table>\n",
       "<p>5 rows × 54 columns</p>\n",
       "</div>"
      ],
      "text/plain": [
       "       UnderwrittenCoverID  PolicyID     TransactionMonth  IsVATRegistered  \\\n",
       "28632                47539      3878  2015-02-01 00:00:00            False   \n",
       "28641                 1514       174  2014-03-01 00:00:00            False   \n",
       "28867               126029      6641  2015-02-01 00:00:00            False   \n",
       "28878                92064      6641  2015-01-01 00:00:00            False   \n",
       "30907                92064      6641  2015-05-01 00:00:00            False   \n",
       "\n",
       "      Citizenship   LegalType Title Language       Bank      AccountType  ...  \\\n",
       "28632              Individual    Mr  English  ABSA Bank  Current account  ...   \n",
       "28641              Individual    Mr  English  ABSA Bank  Current account  ...   \n",
       "28867              Individual    Mr  English  ABSA Bank  Current account  ...   \n",
       "28878              Individual    Mr  English  ABSA Bank  Current account  ...   \n",
       "30907              Individual    Mr  English  ABSA Bank  Current account  ...   \n",
       "\n",
       "              CoverType            CoverGroup                   Section  \\\n",
       "28632  Income Protector      Income Protector  Optional Extended Covers   \n",
       "28641        Windscreen  Comprehensive - Taxi       Motor Comprehensive   \n",
       "28867  Income Protector      Income Protector  Optional Extended Covers   \n",
       "28878        Own Damage  Comprehensive - Taxi       Motor Comprehensive   \n",
       "30907        Own Damage  Comprehensive - Taxi       Motor Comprehensive   \n",
       "\n",
       "                                  Product  StatutoryClass StatutoryRiskType  \\\n",
       "28632  Mobility Commercial Cover: Monthly      Commercial     IFRS Constant   \n",
       "28641  Mobility Commercial Cover: Monthly      Commercial     IFRS Constant   \n",
       "28867  Mobility Commercial Cover: Monthly      Commercial     IFRS Constant   \n",
       "28878  Mobility Commercial Cover: Monthly      Commercial     IFRS Constant   \n",
       "30907  Mobility Commercial Cover: Monthly      Commercial     IFRS Constant   \n",
       "\n",
       "      TotalPremium   TotalClaims  HasClaim        Margin  \n",
       "28632    74.561404   3508.771930      True  -3434.210526  \n",
       "28641    15.789474   2968.705263      True  -2952.915789  \n",
       "28867    74.561404   6140.350877      True  -6065.789474  \n",
       "28878   395.529123  36298.298246      True -35902.769123  \n",
       "30907   395.529123  11927.254386      True -11531.725263  \n",
       "\n",
       "[5 rows x 54 columns]"
      ]
     },
     "execution_count": 36,
     "metadata": {},
     "output_type": "execute_result"
    }
   ],
   "source": [
    "claim_data_gender.head()"
   ]
  },
  {
   "cell_type": "markdown",
   "id": "ba3c30e1",
   "metadata": {},
   "source": [
    "##### Claim Frequency (Chi-squared test)"
   ]
  },
  {
   "cell_type": "code",
   "execution_count": 37,
   "id": "b4e31693",
   "metadata": {},
   "outputs": [
    {
     "name": "stdout",
     "output_type": "stream",
     "text": [
      "Claim Frequency by Gender: p-value = 0.9515\n"
     ]
    }
   ],
   "source": [
    "contingency_table = pd.crosstab(data_gender['Gender'], data_gender['HasClaim'])\n",
    "chi2, p, dof, expected = chi2_contingency(contingency_table)\n",
    "print(f\"Claim Frequency by Gender: p-value = {p:.4f}\")"
   ]
  },
  {
   "cell_type": "markdown",
   "id": "4885816b",
   "metadata": {},
   "source": [
    "##### Claim Severity (Mann-Whitney U test)"
   ]
  },
  {
   "cell_type": "code",
   "execution_count": 40,
   "id": "4e1b5951",
   "metadata": {},
   "outputs": [
    {
     "name": "stdout",
     "output_type": "stream",
     "text": [
      "Claim Severity by Gender: p-value = 0.2235\n"
     ]
    }
   ],
   "source": [
    "male_claims = claim_data_gender[claim_data_gender['Gender'] == 'Male']['TotalClaims']\n",
    "female_claims = claim_data_gender[claim_data_gender['Gender'] == 'Female']['TotalClaims']\n",
    "stat, p = mannwhitneyu(male_claims, female_claims)\n",
    "print(f\"Claim Severity by Gender: p-value = {p:.4f}\")"
   ]
  },
  {
   "cell_type": "markdown",
   "id": "f7328bb7",
   "metadata": {},
   "source": [
    "##### Visualization"
   ]
  },
  {
   "cell_type": "code",
   "execution_count": 41,
   "id": "12f2f1fb",
   "metadata": {},
   "outputs": [
    {
     "data": {
      "image/png": "[encoded data removed]",
      "text/plain": [
       "<Figure size 640x480 with 1 Axes>"
      ]
     },
     "metadata": {},
     "output_type": "display_data"
    }
   ],
   "source": [
    "sns.barplot(x='Gender', y='HasClaim', data=data_gender, estimator=lambda x: sum(x)/len(x))\n",
    "plt.title('Claim Frequency by Gender')\n",
    "plt.ylabel('Claim Frequency')\n",
    "plt.savefig('../plots/claim_frequency_gender.png')\n",
    "plt.show()"
   ]
  },
  {
   "cell_type": "code",
   "execution_count": null,
   "id": "29486243",
   "metadata": {},
   "outputs": [],
   "source": []
  }
 ],
 "metadata": {
  "kernelspec": {
   "display_name": ".venv",
   "language": "python",
   "name": "python3"
  },
  "language_info": {
   "codemirror_mode": {
    "name": "ipython",
    "version": 3
   },
   "file_extension": ".py",
   "mimetype": "text/x-python",
   "name": "python",
   "nbconvert_exporter": "python",
   "pygments_lexer": "ipython3",
   "version": "3.10.7"
  }
 },
 "nbformat": 4,
 "nbformat_minor": 5
}
